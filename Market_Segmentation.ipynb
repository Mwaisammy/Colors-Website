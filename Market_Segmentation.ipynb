{
  "nbformat": 4,
  "nbformat_minor": 0,
  "metadata": {
    "colab": {
      "provenance": [],
      "authorship_tag": "ABX9TyPVZt9KWNLgcO4ub/3RsCVK",
      "include_colab_link": true
    },
    "kernelspec": {
      "name": "python3",
      "display_name": "Python 3"
    },
    "language_info": {
      "name": "python"
    }
  },
  "cells": [
    {
      "cell_type": "markdown",
      "metadata": {
        "id": "view-in-github",
        "colab_type": "text"
      },
      "source": [
        "<a href=\"https://colab.research.google.com/github/Mwaisammy/Colors-Website/blob/master/Market_Segmentation.ipynb\" target=\"_parent\"><img src=\"https://colab.research.google.com/assets/colab-badge.svg\" alt=\"Open In Colab\"/></a>"
      ]
    },
    {
      "cell_type": "markdown",
      "source": [
        "# **Market segmentation using K-Means**"
      ],
      "metadata": {
        "id": "L5FpMhaHtTpc"
      }
    },
    {
      "cell_type": "markdown",
      "source": [
        "# **Data Prepocessing**"
      ],
      "metadata": {
        "id": "y9ENgKnmtzqJ"
      }
    },
    {
      "cell_type": "markdown",
      "source": [
        "##  **Load the data**"
      ],
      "metadata": {
        "id": "BbFis6ORuAwc"
      }
    },
    {
      "cell_type": "code",
      "execution_count": null,
      "metadata": {
        "colab": {
          "base_uri": "https://localhost:8080/",
          "height": 73
        },
        "id": "OYT6_EVUtSGF",
        "outputId": "694f0c57-0259-4b7f-8b3d-44133aab9094"
      },
      "outputs": [
        {
          "output_type": "display_data",
          "data": {
            "text/plain": [
              "<IPython.core.display.HTML object>"
            ],
            "text/html": [
              "\n",
              "     <input type=\"file\" id=\"files-f54bb4dd-c177-40d8-9719-65d00d535011\" name=\"files[]\" multiple disabled\n",
              "        style=\"border:none\" />\n",
              "     <output id=\"result-f54bb4dd-c177-40d8-9719-65d00d535011\">\n",
              "      Upload widget is only available when the cell has been executed in the\n",
              "      current browser session. Please rerun this cell to enable.\n",
              "      </output>\n",
              "      <script>// Copyright 2017 Google LLC\n",
              "//\n",
              "// Licensed under the Apache License, Version 2.0 (the \"License\");\n",
              "// you may not use this file except in compliance with the License.\n",
              "// You may obtain a copy of the License at\n",
              "//\n",
              "//      http://www.apache.org/licenses/LICENSE-2.0\n",
              "//\n",
              "// Unless required by applicable law or agreed to in writing, software\n",
              "// distributed under the License is distributed on an \"AS IS\" BASIS,\n",
              "// WITHOUT WARRANTIES OR CONDITIONS OF ANY KIND, either express or implied.\n",
              "// See the License for the specific language governing permissions and\n",
              "// limitations under the License.\n",
              "\n",
              "/**\n",
              " * @fileoverview Helpers for google.colab Python module.\n",
              " */\n",
              "(function(scope) {\n",
              "function span(text, styleAttributes = {}) {\n",
              "  const element = document.createElement('span');\n",
              "  element.textContent = text;\n",
              "  for (const key of Object.keys(styleAttributes)) {\n",
              "    element.style[key] = styleAttributes[key];\n",
              "  }\n",
              "  return element;\n",
              "}\n",
              "\n",
              "// Max number of bytes which will be uploaded at a time.\n",
              "const MAX_PAYLOAD_SIZE = 100 * 1024;\n",
              "\n",
              "function _uploadFiles(inputId, outputId) {\n",
              "  const steps = uploadFilesStep(inputId, outputId);\n",
              "  const outputElement = document.getElementById(outputId);\n",
              "  // Cache steps on the outputElement to make it available for the next call\n",
              "  // to uploadFilesContinue from Python.\n",
              "  outputElement.steps = steps;\n",
              "\n",
              "  return _uploadFilesContinue(outputId);\n",
              "}\n",
              "\n",
              "// This is roughly an async generator (not supported in the browser yet),\n",
              "// where there are multiple asynchronous steps and the Python side is going\n",
              "// to poll for completion of each step.\n",
              "// This uses a Promise to block the python side on completion of each step,\n",
              "// then passes the result of the previous step as the input to the next step.\n",
              "function _uploadFilesContinue(outputId) {\n",
              "  const outputElement = document.getElementById(outputId);\n",
              "  const steps = outputElement.steps;\n",
              "\n",
              "  const next = steps.next(outputElement.lastPromiseValue);\n",
              "  return Promise.resolve(next.value.promise).then((value) => {\n",
              "    // Cache the last promise value to make it available to the next\n",
              "    // step of the generator.\n",
              "    outputElement.lastPromiseValue = value;\n",
              "    return next.value.response;\n",
              "  });\n",
              "}\n",
              "\n",
              "/**\n",
              " * Generator function which is called between each async step of the upload\n",
              " * process.\n",
              " * @param {string} inputId Element ID of the input file picker element.\n",
              " * @param {string} outputId Element ID of the output display.\n",
              " * @return {!Iterable<!Object>} Iterable of next steps.\n",
              " */\n",
              "function* uploadFilesStep(inputId, outputId) {\n",
              "  const inputElement = document.getElementById(inputId);\n",
              "  inputElement.disabled = false;\n",
              "\n",
              "  const outputElement = document.getElementById(outputId);\n",
              "  outputElement.innerHTML = '';\n",
              "\n",
              "  const pickedPromise = new Promise((resolve) => {\n",
              "    inputElement.addEventListener('change', (e) => {\n",
              "      resolve(e.target.files);\n",
              "    });\n",
              "  });\n",
              "\n",
              "  const cancel = document.createElement('button');\n",
              "  inputElement.parentElement.appendChild(cancel);\n",
              "  cancel.textContent = 'Cancel upload';\n",
              "  const cancelPromise = new Promise((resolve) => {\n",
              "    cancel.onclick = () => {\n",
              "      resolve(null);\n",
              "    };\n",
              "  });\n",
              "\n",
              "  // Wait for the user to pick the files.\n",
              "  const files = yield {\n",
              "    promise: Promise.race([pickedPromise, cancelPromise]),\n",
              "    response: {\n",
              "      action: 'starting',\n",
              "    }\n",
              "  };\n",
              "\n",
              "  cancel.remove();\n",
              "\n",
              "  // Disable the input element since further picks are not allowed.\n",
              "  inputElement.disabled = true;\n",
              "\n",
              "  if (!files) {\n",
              "    return {\n",
              "      response: {\n",
              "        action: 'complete',\n",
              "      }\n",
              "    };\n",
              "  }\n",
              "\n",
              "  for (const file of files) {\n",
              "    const li = document.createElement('li');\n",
              "    li.append(span(file.name, {fontWeight: 'bold'}));\n",
              "    li.append(span(\n",
              "        `(${file.type || 'n/a'}) - ${file.size} bytes, ` +\n",
              "        `last modified: ${\n",
              "            file.lastModifiedDate ? file.lastModifiedDate.toLocaleDateString() :\n",
              "                                    'n/a'} - `));\n",
              "    const percent = span('0% done');\n",
              "    li.appendChild(percent);\n",
              "\n",
              "    outputElement.appendChild(li);\n",
              "\n",
              "    const fileDataPromise = new Promise((resolve) => {\n",
              "      const reader = new FileReader();\n",
              "      reader.onload = (e) => {\n",
              "        resolve(e.target.result);\n",
              "      };\n",
              "      reader.readAsArrayBuffer(file);\n",
              "    });\n",
              "    // Wait for the data to be ready.\n",
              "    let fileData = yield {\n",
              "      promise: fileDataPromise,\n",
              "      response: {\n",
              "        action: 'continue',\n",
              "      }\n",
              "    };\n",
              "\n",
              "    // Use a chunked sending to avoid message size limits. See b/62115660.\n",
              "    let position = 0;\n",
              "    do {\n",
              "      const length = Math.min(fileData.byteLength - position, MAX_PAYLOAD_SIZE);\n",
              "      const chunk = new Uint8Array(fileData, position, length);\n",
              "      position += length;\n",
              "\n",
              "      const base64 = btoa(String.fromCharCode.apply(null, chunk));\n",
              "      yield {\n",
              "        response: {\n",
              "          action: 'append',\n",
              "          file: file.name,\n",
              "          data: base64,\n",
              "        },\n",
              "      };\n",
              "\n",
              "      let percentDone = fileData.byteLength === 0 ?\n",
              "          100 :\n",
              "          Math.round((position / fileData.byteLength) * 100);\n",
              "      percent.textContent = `${percentDone}% done`;\n",
              "\n",
              "    } while (position < fileData.byteLength);\n",
              "  }\n",
              "\n",
              "  // All done.\n",
              "  yield {\n",
              "    response: {\n",
              "      action: 'complete',\n",
              "    }\n",
              "  };\n",
              "}\n",
              "\n",
              "scope.google = scope.google || {};\n",
              "scope.google.colab = scope.google.colab || {};\n",
              "scope.google.colab._files = {\n",
              "  _uploadFiles,\n",
              "  _uploadFilesContinue,\n",
              "};\n",
              "})(self);\n",
              "</script> "
            ]
          },
          "metadata": {}
        },
        {
          "output_type": "stream",
          "name": "stdout",
          "text": [
            "Saving Mall_Customers.csv to Mall_Customers.csv\n"
          ]
        }
      ],
      "source": [
        "from google.colab import files\n",
        "uploaded = files.upload()\n"
      ]
    },
    {
      "cell_type": "code",
      "source": [
        "import pandas as pd\n",
        "df = pd.read_csv('Mall_Customers.csv')\n",
        "print(df)\n"
      ],
      "metadata": {
        "colab": {
          "base_uri": "https://localhost:8080/"
        },
        "collapsed": true,
        "id": "XwNeinfEv-p1",
        "outputId": "80232d3b-2abe-47b4-9655-aeefa1e8e2f2"
      },
      "execution_count": null,
      "outputs": [
        {
          "output_type": "stream",
          "name": "stdout",
          "text": [
            "     CustomerID  Gender  Age  Annual Income (k$)  Spending Score (1-100)\n",
            "0             1    Male   19                  15                      39\n",
            "1             2    Male   21                  15                      81\n",
            "2             3  Female   20                  16                       6\n",
            "3             4  Female   23                  16                      77\n",
            "4             5  Female   31                  17                      40\n",
            "..          ...     ...  ...                 ...                     ...\n",
            "195         196  Female   35                 120                      79\n",
            "196         197  Female   45                 126                      28\n",
            "197         198    Male   32                 126                      74\n",
            "198         199    Male   32                 137                      18\n",
            "199         200    Male   30                 137                      83\n",
            "\n",
            "[200 rows x 5 columns]\n"
          ]
        }
      ]
    },
    {
      "cell_type": "markdown",
      "source": [
        "# **EDA (Exploratory Data Analysis)**"
      ],
      "metadata": {
        "id": "ogem-0uxNOhF"
      }
    },
    {
      "cell_type": "markdown",
      "source": [
        "Exploratory Data Analysis (EDA) is the process of looking at your dataset to understand what's inside before doing any modeling or advanced analysis.\n",
        "\n",
        "\n",
        "Steps involved are\n",
        "\n",
        "1. Load the data.\n",
        "2. Look at the data - we check the first few rows to understand what we are working with\n",
        "3. Understand the structure of the data i.e\n",
        "      * Column name\n",
        "      * Data types\n",
        "      * Rows and columns\n",
        "\n",
        "4. Check for Missing or Duplicate Data\n",
        "5. Basic Statistics\n",
        "6. Visualize the Data\n",
        "7. Spot Trends or Patterns\n",
        "\n",
        "\n"
      ],
      "metadata": {
        "id": "IUCc7dwIjubn"
      }
    },
    {
      "cell_type": "code",
      "source": [
        "import pandas as pd\n",
        "import matplotlib.pyplot as plt\n",
        "import seaborn as sns\n",
        "\n",
        "# Load the data\n",
        "df = pd.read_csv('Mall_Customers.csv')\n",
        "\n",
        "# 1. Basic Info\n",
        "print(\"🧾 Basic Info:\")\n",
        "print(df.info())\n",
        "\n",
        "# 2. First few rows\n",
        "print(\"\\n👀 First 5 Rows:\")\n",
        "print(df.head())\n",
        "\n",
        "# 3. Summary statistics\n",
        "print(\"\\n📊 Summary Statistics:\")\n",
        "print(df.describe())\n",
        "\n",
        "# 4. Check for missing values\n",
        "print(\"\\n❓ Missing Values:\")\n",
        "print(df.isnull().sum())\n",
        "\n",
        "# 5. Check for duplicates\n",
        "print(\"\\n📎 Duplicate Rows:\")\n",
        "print(df.duplicated().sum())\n",
        "\n",
        "# 6. Number of unique values per column\n",
        "print(\"\\n🔢 Unique Values Per Column:\")\n",
        "print(df.nunique())\n",
        "\n",
        "# 7. Distribution of numerical columns (if applicable)\n",
        "numeric_cols = df.select_dtypes(include=['float64', 'int64']).columns\n",
        "\n",
        "if not numeric_cols.empty:\n",
        "    print(\"\\n📈 Distribution Plots:\")\n",
        "    df[numeric_cols].hist(bins=15, figsize=(10, 6))\n",
        "    plt.tight_layout()\n",
        "    plt.show()\n",
        "\n",
        "# 8. Time series trend (if 'month_year' exists and price column available)\n",
        "if 'month_year' in df.columns and 'price' in df.columns:\n",
        "    print(\"\\n📅 Price Over Time:\")\n",
        "    plt.figure(figsize=(10, 5))\n",
        "    df.groupby('month_year')['price'].mean().plot(marker='o')\n",
        "    plt.title('Average Price Over Time')\n",
        "    plt.xlabel('Date')\n",
        "    plt.ylabel('Average Price')\n",
        "    plt.grid(True)\n",
        "    plt.tight_layout()\n",
        "    plt.show()\n",
        "\n",
        "# 9. Correlation heatmap (optional)\n",
        "if len(numeric_cols) > 1:\n",
        "    print(\"\\n🔥 Correlation Heatmap:\")\n",
        "    plt.figure(figsize=(8, 5))\n",
        "    sns.heatmap(df[numeric_cols].corr(), annot=True, cmap='coolwarm', fmt=\".2f\")\n",
        "    plt.title('Correlation Heatmap')\n",
        "    plt.tight_layout()\n",
        "    plt.show()\n"
      ],
      "metadata": {
        "colab": {
          "base_uri": "https://localhost:8080/",
          "height": 1000
        },
        "id": "uNNdQMllNVQB",
        "outputId": "2700d310-54aa-40b4-adef-37b8fbea927b"
      },
      "execution_count": null,
      "outputs": [
        {
          "output_type": "stream",
          "name": "stdout",
          "text": [
            "🧾 Basic Info:\n",
            "<class 'pandas.core.frame.DataFrame'>\n",
            "RangeIndex: 200 entries, 0 to 199\n",
            "Data columns (total 5 columns):\n",
            " #   Column                  Non-Null Count  Dtype \n",
            "---  ------                  --------------  ----- \n",
            " 0   CustomerID              200 non-null    int64 \n",
            " 1   Gender                  200 non-null    object\n",
            " 2   Age                     200 non-null    int64 \n",
            " 3   Annual Income (k$)      200 non-null    int64 \n",
            " 4   Spending Score (1-100)  200 non-null    int64 \n",
            "dtypes: int64(4), object(1)\n",
            "memory usage: 7.9+ KB\n",
            "None\n",
            "\n",
            "👀 First 5 Rows:\n",
            "   CustomerID  Gender  Age  Annual Income (k$)  Spending Score (1-100)\n",
            "0           1    Male   19                  15                      39\n",
            "1           2    Male   21                  15                      81\n",
            "2           3  Female   20                  16                       6\n",
            "3           4  Female   23                  16                      77\n",
            "4           5  Female   31                  17                      40\n",
            "\n",
            "📊 Summary Statistics:\n",
            "       CustomerID         Age  Annual Income (k$)  Spending Score (1-100)\n",
            "count  200.000000  200.000000          200.000000              200.000000\n",
            "mean   100.500000   38.850000           60.560000               50.200000\n",
            "std     57.879185   13.969007           26.264721               25.823522\n",
            "min      1.000000   18.000000           15.000000                1.000000\n",
            "25%     50.750000   28.750000           41.500000               34.750000\n",
            "50%    100.500000   36.000000           61.500000               50.000000\n",
            "75%    150.250000   49.000000           78.000000               73.000000\n",
            "max    200.000000   70.000000          137.000000               99.000000\n",
            "\n",
            "❓ Missing Values:\n",
            "CustomerID                0\n",
            "Gender                    0\n",
            "Age                       0\n",
            "Annual Income (k$)        0\n",
            "Spending Score (1-100)    0\n",
            "dtype: int64\n",
            "\n",
            "📎 Duplicate Rows:\n",
            "0\n",
            "\n",
            "🔢 Unique Values Per Column:\n",
            "CustomerID                200\n",
            "Gender                      2\n",
            "Age                        51\n",
            "Annual Income (k$)         64\n",
            "Spending Score (1-100)     84\n",
            "dtype: int64\n",
            "\n",
            "📈 Distribution Plots:\n"
          ]
        },
        {
          "output_type": "display_data",
          "data": {
            "text/plain": [
              "<Figure size 1000x600 with 4 Axes>"
            ],
            "image/png": "[encoded data removed]"
          },
          "metadata": {}
        },
        {
          "output_type": "stream",
          "name": "stdout",
          "text": [
            "\n",
            "🔥 Correlation Heatmap:\n"
          ]
        },
        {
          "output_type": "display_data",
          "data": {
            "text/plain": [
              "<Figure size 800x500 with 2 Axes>"
            ],
            "image/png": "[encoded data removed]"
          },
          "metadata": {}
        }
      ]
    },
    {
      "cell_type": "markdown",
      "source": [
        "# **Methodology**"
      ],
      "metadata": {
        "id": "6pmPdkUkGhug"
      }
    },
    {
      "cell_type": "markdown",
      "source": [
        "## **Aggeregate customer-level metrics**"
      ],
      "metadata": {
        "id": "2hMlbmI7xXJt"
      }
    },
    {
      "cell_type": "markdown",
      "source": [
        "### **Calculate Recency, Frecuency, and Monetary value(RFM) for each customer**"
      ],
      "metadata": {
        "id": "xdG4_yeOxhRT"
      }
    },
    {
      "cell_type": "markdown",
      "source": [
        "Here we do RFM analysis\n",
        "\n",
        "1. Recency: Number of days since last purchase.\n",
        "\n",
        "2. Frequency: Number of transactions, i.e how many times did this customer appear in the dataset?\n",
        "\n",
        "3. Monetary: Total spending."
      ],
      "metadata": {
        "id": "x_mXoih_GxCD"
      }
    },
    {
      "cell_type": "code",
      "source": [
        "# Rename columns for consistency (optional)\n",
        "df.rename(columns={\n",
        "    'CustomerID': 'customer_id',\n",
        "    'Annual Income (k$)': 'income',\n",
        "    'Spending Score (1-100)': 'spending_score'\n",
        "}, inplace=True)\n",
        "\n",
        "# Simulate RFM scores\n",
        "rfm = df[['customer_id', 'income', 'spending_score']].copy()\n",
        "\n",
        "# Assign R, F, M scores from 1 to 5 (higher is better)\n",
        "rfm['R'] = pd.qcut(df['spending_score'], 5, labels=[5, 4, 3, 2, 1]).astype(int)  # Reverse: higher score = more recent\n",
        "rfm['F'] = pd.qcut(df['spending_score'], 5, labels=[1, 2, 3, 4, 5]).astype(int)  # Proxy frequency\n",
        "rfm['M'] = pd.qcut(df['income'], 5, labels=[1, 2, 3, 4, 5]).astype(int)\n",
        "\n",
        "# Combine into RFM Score\n",
        "rfm['RFM_Score'] = rfm['R'].astype(str) + rfm['F'].astype(str) + rfm['M'].astype(str)\n",
        "\n",
        "# Show result\n",
        "print(rfm.head())\n"
      ],
      "metadata": {
        "id": "pu41zq57x2rM",
        "colab": {
          "base_uri": "https://localhost:8080/"
        },
        "outputId": "8c8b13bf-2c37-4c90-e4a2-a3c1603709aa"
      },
      "execution_count": null,
      "outputs": [
        {
          "output_type": "stream",
          "name": "stdout",
          "text": [
            "   customer_id  income  spending_score  R  F  M RFM_Score\n",
            "0            1      15              39  4  2  1       421\n",
            "1            2      15              81  1  5  1       151\n",
            "2            3      16               6  5  1  1       511\n",
            "3            4      16              77  1  5  1       151\n",
            "4            5      17              40  4  2  1       421\n"
          ]
        }
      ]
    },
    {
      "cell_type": "code",
      "source": [
        "print(rfm)"
      ],
      "metadata": {
        "colab": {
          "base_uri": "https://localhost:8080/"
        },
        "collapsed": true,
        "id": "0-UrkBM6x7v1",
        "outputId": "c036c11d-2005-4267-af3c-09113195a2cc"
      },
      "execution_count": null,
      "outputs": [
        {
          "output_type": "stream",
          "name": "stdout",
          "text": [
            "     customer_id  income  spending_score  R  F  M RFM_Score\n",
            "0              1      15              39  4  2  1       421\n",
            "1              2      15              81  1  5  1       151\n",
            "2              3      16               6  5  1  1       511\n",
            "3              4      16              77  1  5  1       151\n",
            "4              5      17              40  4  2  1       421\n",
            "..           ...     ...             ... .. .. ..       ...\n",
            "195          196     120              79  1  5  5       155\n",
            "196          197     126              28  4  2  5       425\n",
            "197          198     126              74  2  4  5       245\n",
            "198          199     137              18  5  1  5       515\n",
            "199          200     137              83  1  5  5       155\n",
            "\n",
            "[200 rows x 7 columns]\n"
          ]
        }
      ]
    },
    {
      "cell_type": "markdown",
      "source": [
        "# **Feature scaling**"
      ],
      "metadata": {
        "id": "949LAvQZyMzC"
      }
    },
    {
      "cell_type": "markdown",
      "source": [
        "Scaling means adjusting your data so that all the features (columns) are on the same range or scale.\n",
        "\n",
        "\n",
        "\n"
      ],
      "metadata": {
        "id": "eJpUF27ifyMK"
      }
    },
    {
      "cell_type": "markdown",
      "source": [
        "## **Normalize the RFM values for clustering**"
      ],
      "metadata": {
        "id": "FzDmnqzEySp_"
      }
    },
    {
      "cell_type": "markdown",
      "source": [
        "**You have three features: recency, frequency, and monetary.**\n",
        "\n",
        "Each of them may have very different ranges:\n",
        "1. Recency might range from 1 to 300 (days),\n",
        "2. Frequency might range from 1 to 50 (number of purchases),\n",
        "3. Monetary might range from 100 to 50,000 (total money spent)."
      ],
      "metadata": {
        "id": "XvPTKNNwUKB3"
      }
    },
    {
      "cell_type": "code",
      "source": [
        "# Using 'spending_score' as proxy for Recency and Frequency, and 'income' for Monetary\n",
        "rfm = df[['customer_id', 'income', 'spending_score']].copy()\n",
        "rfm['recency'] = pd.qcut(df['spending_score'], 5, labels=[5, 4, 3, 2, 1]).astype(int)\n",
        "rfm['frequency'] = pd.qcut(df['spending_score'], 5, labels=[1, 2, 3, 4, 5]).astype(int)\n",
        "rfm['monetary'] = pd.qcut(df['income'], 5, labels=[1, 2, 3, 4, 5]).astype(int)\n"
      ],
      "metadata": {
        "id": "ho2HqI-nwOOm"
      },
      "execution_count": null,
      "outputs": []
    },
    {
      "cell_type": "markdown",
      "source": [],
      "metadata": {
        "id": "cW0F6NQ6wNym"
      }
    },
    {
      "cell_type": "code",
      "source": [
        "from sklearn.preprocessing import StandardScaler\n",
        "\n",
        "# Initialize scaler\n",
        "scaler = StandardScaler()\n",
        "\n",
        "# Apply scaling to recency, frequency, monetary\n",
        "rfm_scaled = scaler.fit_transform(rfm[['recency', 'frequency', 'monetary']])\n",
        "\n",
        "# Convert back to DataFrame for readability (optional)\n",
        "rfm_scaled_df = pd.DataFrame(rfm_scaled, columns=['recency_scaled', 'frequency_scaled', 'monetary_scaled'])\n",
        "\n",
        "# Concatenate with customer_id if needed\n",
        "rfm_scaled_df = pd.concat([rfm[['customer_id']], rfm_scaled_df], axis=1)\n",
        "\n",
        "# Display result\n",
        "print(rfm_scaled_df.head())\n"
      ],
      "metadata": {
        "id": "GG8MDNnMycIr",
        "colab": {
          "base_uri": "https://localhost:8080/"
        },
        "outputId": "7321fea1-d522-49c5-afe8-274c49c79b4d"
      },
      "execution_count": null,
      "outputs": [
        {
          "output_type": "stream",
          "name": "stdout",
          "text": [
            "   customer_id  recency_scaled  frequency_scaled  monetary_scaled\n",
            "0            1        0.693889         -0.693889        -1.379598\n",
            "1            2       -1.441153          1.441153        -1.379598\n",
            "2            3        1.405569         -1.405569        -1.379598\n",
            "3            4       -1.441153          1.441153        -1.379598\n",
            "4            5        0.693889         -0.693889        -1.379598\n"
          ]
        }
      ]
    },
    {
      "cell_type": "code",
      "source": [
        "print(rfm_scaled)"
      ],
      "metadata": {
        "colab": {
          "base_uri": "https://localhost:8080/"
        },
        "collapsed": true,
        "id": "97Aa9UgjynsU",
        "outputId": "f086977e-faf4-4896-a177-14ef51ef2601"
      },
      "execution_count": null,
      "outputs": [
        {
          "output_type": "stream",
          "name": "stdout",
          "text": [
            "[[ 0.69388867 -0.69388867 -1.37959767]\n",
            " [-1.44115338  1.44115338 -1.37959767]\n",
            " [ 1.40556935 -1.40556935 -1.37959767]\n",
            " [-1.44115338  1.44115338 -1.37959767]\n",
            " [ 0.69388867 -0.69388867 -1.37959767]\n",
            " [-1.44115338  1.44115338 -1.37959767]\n",
            " [ 1.40556935 -1.40556935 -1.37959767]\n",
            " [-1.44115338  1.44115338 -1.37959767]\n",
            " [ 1.40556935 -1.40556935 -1.37959767]\n",
            " [-0.7294727   0.7294727  -1.37959767]\n",
            " [ 1.40556935 -1.40556935 -1.37959767]\n",
            " [-1.44115338  1.44115338 -1.37959767]\n",
            " [ 1.40556935 -1.40556935 -1.37959767]\n",
            " [-1.44115338  1.44115338 -1.37959767]\n",
            " [ 1.40556935 -1.40556935 -1.37959767]\n",
            " [-1.44115338  1.44115338 -1.37959767]\n",
            " [ 0.69388867 -0.69388867 -1.37959767]\n",
            " [-0.7294727   0.7294727  -1.37959767]\n",
            " [ 0.69388867 -0.69388867 -1.37959767]\n",
            " [-1.44115338  1.44115338 -1.37959767]\n",
            " [ 0.69388867 -0.69388867 -1.37959767]\n",
            " [-0.7294727   0.7294727  -1.37959767]\n",
            " [ 1.40556935 -1.40556935 -1.37959767]\n",
            " [-0.7294727   0.7294727  -1.37959767]\n",
            " [ 1.40556935 -1.40556935 -1.37959767]\n",
            " [-1.44115338  1.44115338 -1.37959767]\n",
            " [ 0.69388867 -0.69388867 -1.37959767]\n",
            " [-0.7294727   0.7294727  -1.37959767]\n",
            " [ 0.69388867 -0.69388867 -1.37959767]\n",
            " [-1.44115338  1.44115338 -1.37959767]\n",
            " [ 1.40556935 -1.40556935 -1.37959767]\n",
            " [-0.7294727   0.7294727  -1.37959767]\n",
            " [ 1.40556935 -1.40556935 -1.37959767]\n",
            " [-1.44115338  1.44115338 -1.37959767]\n",
            " [ 1.40556935 -1.40556935 -1.37959767]\n",
            " [-1.44115338  1.44115338 -1.37959767]\n",
            " [ 1.40556935 -1.40556935 -1.37959767]\n",
            " [-0.7294727   0.7294727  -1.37959767]\n",
            " [ 1.40556935 -1.40556935 -1.37959767]\n",
            " [-0.7294727   0.7294727  -1.37959767]\n",
            " [ 0.69388867 -0.69388867 -0.67572131]\n",
            " [-1.44115338  1.44115338 -0.67572131]\n",
            " [ 0.69388867 -0.69388867 -0.67572131]\n",
            " [-0.7294727   0.7294727  -0.67572131]\n",
            " [ 0.69388867 -0.69388867 -0.67572131]\n",
            " [-0.7294727   0.7294727  -0.67572131]\n",
            " [-0.01779202  0.01779202 -0.67572131]\n",
            " [-0.01779202  0.01779202 -0.67572131]\n",
            " [ 0.69388867 -0.69388867 -0.67572131]\n",
            " [ 0.69388867 -0.69388867 -0.67572131]\n",
            " [-0.01779202  0.01779202 -0.67572131]\n",
            " [-0.7294727   0.7294727  -0.67572131]\n",
            " [-0.01779202  0.01779202 -0.67572131]\n",
            " [-0.7294727   0.7294727  -0.67572131]\n",
            " [ 0.69388867 -0.69388867 -0.67572131]\n",
            " [ 0.69388867 -0.69388867 -0.67572131]\n",
            " [-0.01779202  0.01779202 -0.67572131]\n",
            " [-0.01779202  0.01779202 -0.67572131]\n",
            " [-0.01779202  0.01779202 -0.67572131]\n",
            " [-0.01779202  0.01779202 -0.67572131]\n",
            " [-0.7294727   0.7294727  -0.67572131]\n",
            " [-0.01779202  0.01779202 -0.67572131]\n",
            " [-0.01779202  0.01779202 -0.67572131]\n",
            " [-0.7294727   0.7294727  -0.67572131]\n",
            " [-0.01779202  0.01779202 -0.67572131]\n",
            " [-0.7294727   0.7294727  -0.67572131]\n",
            " [-0.01779202  0.01779202 -0.67572131]\n",
            " [-0.01779202  0.01779202 -0.67572131]\n",
            " [-0.7294727   0.7294727  -0.67572131]\n",
            " [-0.01779202  0.01779202 -0.67572131]\n",
            " [-0.01779202  0.01779202 -0.67572131]\n",
            " [ 0.69388867 -0.69388867 -0.67572131]\n",
            " [-0.01779202  0.01779202 -0.67572131]\n",
            " [-0.7294727   0.7294727  -0.67572131]\n",
            " [-0.01779202  0.01779202 -0.67572131]\n",
            " [-0.01779202  0.01779202 -0.67572131]\n",
            " [-0.01779202  0.01779202 -0.67572131]\n",
            " [-0.01779202  0.01779202 -0.67572131]\n",
            " [-0.01779202  0.01779202 -0.67572131]\n",
            " [ 0.69388867 -0.69388867 -0.67572131]\n",
            " [-0.01779202  0.01779202 -0.67572131]\n",
            " [-0.01779202  0.01779202 -0.67572131]\n",
            " [ 0.69388867 -0.69388867 -0.67572131]\n",
            " [ 0.69388867 -0.69388867 -0.67572131]\n",
            " [-0.7294727   0.7294727  -0.67572131]\n",
            " [-0.01779202  0.01779202 -0.67572131]\n",
            " [-0.7294727   0.7294727   0.02815505]\n",
            " [-0.01779202  0.01779202  0.02815505]\n",
            " [-0.7294727   0.7294727   0.02815505]\n",
            " [-0.01779202  0.01779202  0.02815505]\n",
            " [-0.01779202  0.01779202  0.02815505]\n",
            " [ 0.69388867 -0.69388867  0.02815505]\n",
            " [-0.01779202  0.01779202  0.02815505]\n",
            " [ 0.69388867 -0.69388867  0.02815505]\n",
            " [ 0.69388867 -0.69388867  0.02815505]\n",
            " [-0.01779202  0.01779202  0.02815505]\n",
            " [-0.01779202  0.01779202  0.02815505]\n",
            " [-0.01779202  0.01779202  0.02815505]\n",
            " [ 0.69388867 -0.69388867  0.02815505]\n",
            " [-0.01779202  0.01779202  0.02815505]\n",
            " [ 0.69388867 -0.69388867  0.02815505]\n",
            " [-0.01779202  0.01779202  0.02815505]\n",
            " [-0.7294727   0.7294727   0.02815505]\n",
            " [-0.01779202  0.01779202  0.02815505]\n",
            " [-0.7294727   0.7294727   0.02815505]\n",
            " [ 0.69388867 -0.69388867  0.02815505]\n",
            " [-0.01779202  0.01779202  0.02815505]\n",
            " [-0.01779202  0.01779202  0.02815505]\n",
            " [ 0.69388867 -0.69388867  0.02815505]\n",
            " [-0.01779202  0.01779202  0.02815505]\n",
            " [-0.01779202  0.01779202  0.02815505]\n",
            " [-0.01779202  0.01779202  0.02815505]\n",
            " [ 0.69388867 -0.69388867  0.02815505]\n",
            " [-0.01779202  0.01779202  0.02815505]\n",
            " [-0.01779202  0.01779202  0.02815505]\n",
            " [-0.01779202  0.01779202  0.02815505]\n",
            " [ 0.69388867 -0.69388867  0.02815505]\n",
            " [-0.7294727   0.7294727   0.02815505]\n",
            " [ 0.69388867 -0.69388867  0.02815505]\n",
            " [-0.7294727   0.7294727   0.02815505]\n",
            " [-0.7294727   0.7294727   0.02815505]\n",
            " [ 0.69388867 -0.69388867  0.02815505]\n",
            " [-0.7294727   0.7294727   0.73203142]\n",
            " [-1.44115338  1.44115338  0.73203142]\n",
            " [ 0.69388867 -0.69388867  0.73203142]\n",
            " [-1.44115338  1.44115338  0.73203142]\n",
            " [ 0.69388867 -0.69388867  0.73203142]\n",
            " [-1.44115338  1.44115338  0.73203142]\n",
            " [ 1.40556935 -1.40556935  0.73203142]\n",
            " [-0.7294727   0.7294727   0.73203142]\n",
            " [ 1.40556935 -1.40556935  0.73203142]\n",
            " [-0.7294727   0.7294727   0.73203142]\n",
            " [ 0.69388867 -0.69388867  0.73203142]\n",
            " [-0.7294727   0.7294727   0.73203142]\n",
            " [ 1.40556935 -1.40556935  0.73203142]\n",
            " [-1.44115338  1.44115338  0.73203142]\n",
            " [ 1.40556935 -1.40556935  0.73203142]\n",
            " [-0.7294727   0.7294727   0.73203142]\n",
            " [ 1.40556935 -1.40556935  0.73203142]\n",
            " [-0.7294727   0.7294727   0.73203142]\n",
            " [ 1.40556935 -1.40556935  0.73203142]\n",
            " [-1.44115338  1.44115338  0.73203142]\n",
            " [ 0.69388867 -0.69388867  0.73203142]\n",
            " [-1.44115338  1.44115338  0.73203142]\n",
            " [ 1.40556935 -1.40556935  0.73203142]\n",
            " [-1.44115338  1.44115338  0.73203142]\n",
            " [ 0.69388867 -0.69388867  0.73203142]\n",
            " [-0.7294727   0.7294727   0.73203142]\n",
            " [ 1.40556935 -1.40556935  0.73203142]\n",
            " [-1.44115338  1.44115338  0.73203142]\n",
            " [ 1.40556935 -1.40556935  0.73203142]\n",
            " [-1.44115338  1.44115338  0.73203142]\n",
            " [ 1.40556935 -1.40556935  0.73203142]\n",
            " [-1.44115338  1.44115338  0.73203142]\n",
            " [ 1.40556935 -1.40556935  0.73203142]\n",
            " [-1.44115338  1.44115338  0.73203142]\n",
            " [ 1.40556935 -1.40556935  0.73203142]\n",
            " [-1.44115338  1.44115338  0.73203142]\n",
            " [ 1.40556935 -1.40556935  0.73203142]\n",
            " [-0.7294727   0.7294727   0.73203142]\n",
            " [ 0.69388867 -0.69388867  1.43590778]\n",
            " [-1.44115338  1.44115338  1.43590778]\n",
            " [ 1.40556935 -1.40556935  1.43590778]\n",
            " [-1.44115338  1.44115338  1.43590778]\n",
            " [ 1.40556935 -1.40556935  1.43590778]\n",
            " [-0.7294727   0.7294727   1.43590778]\n",
            " [ 1.40556935 -1.40556935  1.43590778]\n",
            " [-1.44115338  1.44115338  1.43590778]\n",
            " [ 0.69388867 -0.69388867  1.43590778]\n",
            " [-0.7294727   0.7294727   1.43590778]\n",
            " [ 1.40556935 -1.40556935  1.43590778]\n",
            " [-0.7294727   0.7294727   1.43590778]\n",
            " [ 1.40556935 -1.40556935  1.43590778]\n",
            " [-1.44115338  1.44115338  1.43590778]\n",
            " [ 1.40556935 -1.40556935  1.43590778]\n",
            " [-1.44115338  1.44115338  1.43590778]\n",
            " [ 1.40556935 -1.40556935  1.43590778]\n",
            " [-0.7294727   0.7294727   1.43590778]\n",
            " [ 1.40556935 -1.40556935  1.43590778]\n",
            " [-1.44115338  1.44115338  1.43590778]\n",
            " [ 0.69388867 -0.69388867  1.43590778]\n",
            " [-1.44115338  1.44115338  1.43590778]\n",
            " [ 1.40556935 -1.40556935  1.43590778]\n",
            " [-1.44115338  1.44115338  1.43590778]\n",
            " [ 0.69388867 -0.69388867  1.43590778]\n",
            " [-1.44115338  1.44115338  1.43590778]\n",
            " [ 1.40556935 -1.40556935  1.43590778]\n",
            " [-0.7294727   0.7294727   1.43590778]\n",
            " [ 1.40556935 -1.40556935  1.43590778]\n",
            " [-1.44115338  1.44115338  1.43590778]\n",
            " [ 1.40556935 -1.40556935  1.43590778]\n",
            " [-0.7294727   0.7294727   1.43590778]\n",
            " [ 1.40556935 -1.40556935  1.43590778]\n",
            " [-1.44115338  1.44115338  1.43590778]\n",
            " [ 1.40556935 -1.40556935  1.43590778]\n",
            " [-1.44115338  1.44115338  1.43590778]\n",
            " [ 0.69388867 -0.69388867  1.43590778]\n",
            " [-0.7294727   0.7294727   1.43590778]\n",
            " [ 1.40556935 -1.40556935  1.43590778]\n",
            " [-1.44115338  1.44115338  1.43590778]]\n"
          ]
        }
      ]
    },
    {
      "cell_type": "markdown",
      "source": [
        "# **Model building**"
      ],
      "metadata": {
        "id": "yaTiGrT1LxMT"
      }
    },
    {
      "cell_type": "markdown",
      "source": [
        "## **Clustering (K - Means Example)**"
      ],
      "metadata": {
        "id": "WWhwjtYx2zYn"
      }
    },
    {
      "cell_type": "code",
      "source": [],
      "metadata": {
        "id": "KXJJjDFF6GHb"
      },
      "execution_count": null,
      "outputs": []
    },
    {
      "cell_type": "markdown",
      "source": [
        "### **Clustering using elbow method**"
      ],
      "metadata": {
        "id": "JpykzcuvMORJ"
      }
    },
    {
      "cell_type": "markdown",
      "source": [
        "The Elbow Method helps you pick the right number of groups by showing when adding more groups doesn’t really help much anymore\n",
        "\n",
        "\n",
        "The Elbow Method helps you find the best number of clusters (k) to use in KMeans.\n",
        "\n",
        "It works by checking how well the model fits for different values of k (clusters), using something called SSE (Sum of Squared Errors)."
      ],
      "metadata": {
        "id": "40mx4x5LMWCn"
      }
    },
    {
      "cell_type": "code",
      "source": [
        "from sklearn.cluster import KMeans\n",
        "\n",
        "#Find optimal clusters using the Elbow Method\n",
        "\n",
        "sse = []\n",
        "for k in range(1, 11):\n",
        "    kmeans = KMeans(n_clusters=k, random_state=42)\n",
        "    kmeans.fit(rfm_scaled)\n",
        "    sse.append(kmeans.inertia_)\n",
        "\n",
        "\n",
        "#Plot Elbow curve (not shown here; typially k=3 or 4 works for RFM)\n",
        "\n",
        "kmeans = KMeans(n_clusters=4, random_state=42)\n",
        "rfm['cluster'] =  kmeans.fit_predict(rfm_scaled)"
      ],
      "metadata": {
        "id": "t_1M5ehD2842"
      },
      "execution_count": null,
      "outputs": []
    },
    {
      "cell_type": "code",
      "source": [
        "print(rfm['cluster'] )"
      ],
      "metadata": {
        "colab": {
          "base_uri": "https://localhost:8080/"
        },
        "collapsed": true,
        "id": "74SRPz60A1YX",
        "outputId": "e455cceb-4f08-4e42-ee39-fa933c7ca7a5"
      },
      "execution_count": null,
      "outputs": [
        {
          "output_type": "stream",
          "name": "stdout",
          "text": [
            "0      2\n",
            "1      0\n",
            "2      2\n",
            "3      0\n",
            "4      2\n",
            "      ..\n",
            "195    1\n",
            "196    3\n",
            "197    1\n",
            "198    3\n",
            "199    1\n",
            "Name: cluster, Length: 200, dtype: int32\n"
          ]
        }
      ]
    },
    {
      "cell_type": "markdown",
      "source": [
        "##**Plot to visually determine the optimal number of clusters**"
      ],
      "metadata": {
        "id": "5c39m1TSBdzZ"
      }
    },
    {
      "cell_type": "code",
      "source": [
        "import matplotlib.pyplot as plt\n",
        "from sklearn.cluster import KMeans\n",
        "\n",
        "# Fit KMeans with k=4 (if not already done)\n",
        "kmeans = KMeans(n_clusters=4, random_state=42)\n",
        "rfm['cluster'] = kmeans.fit_predict(rfm_scaled)\n",
        "\n",
        "# 2D Plot: Recency vs Frequency\n",
        "plt.figure(figsize=(8, 6))\n",
        "plt.scatter(rfm_scaled[:, 0], rfm_scaled[:, 1], c=rfm['cluster'], cmap='viridis', s=50)\n",
        "plt.xlabel('Recency')\n",
        "plt.ylabel('Frequency')\n",
        "plt.title('2D Cluster Visualization: Recency vs Frequency')\n",
        "plt.grid(True)\n",
        "plt.show()\n",
        "\n"
      ],
      "metadata": {
        "colab": {
          "base_uri": "https://localhost:8080/",
          "height": 564
        },
        "id": "s_E6Fb3tBlJx",
        "outputId": "7ca55d20-e336-45c4-c58f-f4e63b8d8d49"
      },
      "execution_count": null,
      "outputs": [
        {
          "output_type": "display_data",
          "data": {
            "text/plain": [
              "<Figure size 800x600 with 1 Axes>"
            ],
            "image/png": "[encoded data removed]"
          },
          "metadata": {}
        }
      ]
    },
    {
      "cell_type": "markdown",
      "source": [
        "**How to Read the Plot:**\n",
        "\n",
        "1. X-axis (Recency)\n",
        "\n",
        "* Left side = customers who came back recently\n",
        "\n",
        "* Right side = customers who haven’t come back in a while\n",
        "\n",
        "2. Y-axis (Frequency)\n",
        "\n",
        "* Top = customers who visit or shop often\n",
        "\n",
        "* Bottom = customers who visit rarely\n",
        "\n",
        "3. Colors (Clusters)\n",
        "\n",
        "* Each color shows a different group of similar customers\n",
        "\n",
        "* The model grouped them based on how recently and how often they shop"
      ],
      "metadata": {
        "id": "J1NLAIJBcSBs"
      }
    },
    {
      "cell_type": "code",
      "source": [
        "import matplotlib.pyplot as plt\n",
        "from sklearn.cluster import KMeans\n",
        "\n",
        "# Define the range of clusters\n",
        "k_values = range(1, 11)\n",
        "\n",
        "# Compute SSE for each k\n",
        "sse = []\n",
        "for k in k_values:\n",
        "    kmeans = KMeans(n_clusters=k, random_state=42)\n",
        "    kmeans.fit(rfm_scaled)\n",
        "    sse.append(kmeans.inertia_)\n",
        "\n",
        "# Optional: Uncomment this if you want to automatically find the elbow\n",
        "# from kneed import KneeLocator\n",
        "# kl = KneeLocator(k_values, sse, curve='convex', direction='decreasing')\n",
        "# elbow_k = kl.elbow\n",
        "\n",
        "# Plot the Elbow Curve\n",
        "plt.figure(figsize=(8, 5))\n",
        "plt.plot(k_values, sse, marker='o', label='SSE (Inertia)')\n",
        "\n",
        "# Optional: Show the elbow point\n",
        "# plt.axvline(x=elbow_k, color='red', linestyle='--', label=f'Elbow at k={elbow_k}')\n",
        "\n",
        "# Add titles and labels\n",
        "plt.title('Elbow Method for Optimal Number of Clusters')\n",
        "plt.xlabel('Number of Clusters (k)')\n",
        "plt.ylabel('Sum of Squared Errors (SSE)')\n",
        "plt.xticks(k_values)\n",
        "plt.grid(True)\n",
        "plt.legend()  # 👈 Adds the key/legend\n",
        "plt.tight_layout()\n",
        "plt.show()\n"
      ],
      "metadata": {
        "colab": {
          "base_uri": "https://localhost:8080/",
          "height": 507
        },
        "id": "PKhlTZKALVdZ",
        "outputId": "298f41bd-56d5-4ccf-810f-fa5bd1931f46"
      },
      "execution_count": null,
      "outputs": [
        {
          "output_type": "display_data",
          "data": {
            "text/plain": [
              "<Figure size 800x500 with 1 Axes>"
            ],
            "image/png": "[encoded data removed]"
          },
          "metadata": {}
        }
      ]
    },
    {
      "cell_type": "markdown",
      "source": [
        "# **Analyse Segments**"
      ],
      "metadata": {
        "id": "MJxVPfy14Gnk"
      }
    },
    {
      "cell_type": "markdown",
      "source": [
        "## **Cluster characteristics**"
      ],
      "metadata": {
        "id": "WRoliEBO5kIo"
      }
    },
    {
      "cell_type": "markdown",
      "source": [
        "This code summarizes the behavior of each customer group so you can understand who they are and what actions to take."
      ],
      "metadata": {
        "id": "HwBFKSRRd05A"
      }
    },
    {
      "cell_type": "code",
      "source": [
        "cluster_summary = rfm.groupby('cluster').agg({\n",
        "    'recency': 'mean',\n",
        "    'frequency': 'mean',\n",
        "    'monetary' : ['mean', 'count']\n",
        "}).reset_index()\n"
      ],
      "metadata": {
        "id": "8Zo4gyhr5v-o"
      },
      "execution_count": null,
      "outputs": []
    },
    {
      "cell_type": "code",
      "source": [
        "print(cluster_summary)"
      ],
      "metadata": {
        "id": "XOc4MDGD6Nhu",
        "colab": {
          "base_uri": "https://localhost:8080/"
        },
        "outputId": "3c4863ba-327c-451e-862f-ab1db9c2449d"
      },
      "execution_count": null,
      "outputs": [
        {
          "output_type": "stream",
          "name": "stdout",
          "text": [
            "  cluster   recency frequency  monetary      \n",
            "               mean      mean      mean count\n",
            "0       0  2.362500  3.637500  2.062500    80\n",
            "1       1  1.375000  4.625000  4.500000    40\n",
            "2       2  4.309524  1.690476  1.785714    42\n",
            "3       3  4.736842  1.263158  4.526316    38\n"
          ]
        }
      ]
    },
    {
      "cell_type": "markdown",
      "source": [
        "# **Assign Segment Labels**"
      ],
      "metadata": {
        "id": "CKpLIG387Tge"
      }
    },
    {
      "cell_type": "markdown",
      "source": [
        "## **Map cluster labels to meaningful names**"
      ],
      "metadata": {
        "id": "ov0pD4weD2CZ"
      }
    },
    {
      "cell_type": "markdown",
      "source": [
        "### **Typical RFM Segment labels**\n",
        "\n",
        "1. Champions : Recently purchased, buy often, spend a lot\n",
        "2. Loyal customers: Buy often, not necessarily recent\n",
        "3. At risk: Used to but ofter, but not recently\n",
        "4. New customers: Recent buyers, low frequency"
      ],
      "metadata": {
        "id": "WN6WSoE9EOjp"
      }
    },
    {
      "cell_type": "code",
      "source": [
        "# Map cluster labels to meaningful names\n",
        "cluster_labels = {\n",
        "    0: 'Champions',\n",
        "    1: 'Loyal Customers',\n",
        "    2: 'At Risk',\n",
        "    3: 'New Customers'\n",
        "}\n",
        "\n",
        "rfm['segment'] = rfm['cluster'].map(cluster_labels)\n"
      ],
      "metadata": {
        "id": "gK-YBLO_DPeH"
      },
      "execution_count": null,
      "outputs": []
    },
    {
      "cell_type": "markdown",
      "source": [
        "# **Visualization**"
      ],
      "metadata": {
        "id": "vz0aYia1y8TM"
      }
    },
    {
      "cell_type": "markdown",
      "source": [
        "### **Visualization of customer Segments on 2D RFM Clusters**"
      ],
      "metadata": {
        "id": "W34APU4xFQjp"
      }
    },
    {
      "cell_type": "code",
      "source": [
        "import seaborn as sns\n",
        "\n",
        "plt.figure(figsize=(8, 6))\n",
        "sns.scatterplot(x=rfm_scaled[:, 0], y=rfm_scaled[:, 1], hue=rfm['segment'], palette='Set2', s=70)\n",
        "plt.xlabel('Recency')\n",
        "plt.ylabel('Frequency')\n",
        "plt.title('Customer Segments (2D RFM Clusters)')\n",
        "plt.legend(title='Segment')\n",
        "plt.grid(True)\n",
        "plt.show()\n"
      ],
      "metadata": {
        "colab": {
          "base_uri": "https://localhost:8080/",
          "height": 564
        },
        "id": "rwUB0rvbDL4j",
        "outputId": "03c9e376-2f64-446e-886f-201adf8d867e"
      },
      "execution_count": null,
      "outputs": [
        {
          "output_type": "display_data",
          "data": {
            "text/plain": [
              "<Figure size 800x600 with 1 Axes>"
            ],
            "image/png": "[encoded data removed]"
          },
          "metadata": {}
        }
      ]
    },
    {
      "cell_type": "markdown",
      "source": [
        "Details of the key above\n",
        "\n",
        "1. At risk: Used to but ofter, but not recently\n",
        "2. Champions : Recently purchased, buy often, spend a lot\n",
        "3. New customers: Recent buyers, low frequency\n",
        "4. Loyal customers: Buy often, not necessarily recent"
      ],
      "metadata": {
        "id": "u6jmmfunFxNA"
      }
    }
  ]
}